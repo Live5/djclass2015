{
 "cells": [
  {
   "cell_type": "code",
   "execution_count": 8,
   "metadata": {
    "collapsed": false
   },
   "outputs": [
    {
     "name": "stdout",
     "output_type": "stream",
     "text": [
      "\n",
      "\n",
      "\n"
     ]
    }
   ],
   "source": [
    "import urllib.request\n",
    "import threading\n",
    "from time import ctime\n",
    "from bs4 import BeautifulSoup\n",
    "def getPM25(cityname):\n",
    "    site = 'http://www.pm25.com/' + cityname + '.html'\n",
    "    html = urllib.request.urlopen(site)\n",
    "    soup = BeautifulSoup(html)\n",
    "    city = soup.find(class_ = 'bi_loaction_city')   # 城市名称\n",
    "    aqi = soup.find(\"a\",{\"class\",\"bi_aqiarea_num\"})  # AQI指数\n",
    "    quality = soup.select(\".bi_aqiarea_right span\")  # 空气质量等级\n",
    "    result = soup.find(\"div\",class_ ='bi_aqiarea_bottom')   # 空气质量描述\n",
    "    print (city.text + u'AQI指数：' + aqi.text + u'\\n空气质量：' + quality[0].text + result.text)\n",
    "    print ('*'*20 + ctime() + '*'*20)\n",
    "def one_thread():   # 单线程\n",
    "    print ('One_thread Start: ' + ctime() + '\\n')\n",
    "    getPM25('hefei')\n",
    "    getPM25('shanghai')\n",
    "def two_thread():   # 多线程\n",
    "    print ('Two_thread Start: ' + ctime() + '\\n')\n",
    "    threads = []\n",
    "    t1 = threading.Thread(target=getPM25,args=('nanjing',))\n",
    "    threads.append(t1)\n",
    "    t2 = threading.Thread(target=getPM25,args=('shanghai',))\n",
    "    threads.append(t2)\n",
    "    for t in threads:\n",
    "        # t.setDaemon(True)\n",
    "        t.start()\n",
    "if __name__ == '__main__':\n",
    "    one_thread\n",
    "    print ('\\n' * 2)\n",
    "    two_thread"
   ]
  },
  {
   "cell_type": "code",
   "execution_count": null,
   "metadata": {
    "collapsed": true
   },
   "outputs": [],
   "source": []
  }
 ],
 "metadata": {
  "kernelspec": {
   "display_name": "Python 3",
   "language": "python",
   "name": "python3"
  },
  "language_info": {
   "codemirror_mode": {
    "name": "ipython",
    "version": 3
   },
   "file_extension": ".py",
   "mimetype": "text/x-python",
   "name": "python",
   "nbconvert_exporter": "python",
   "pygments_lexer": "ipython3",
   "version": "3.5.1"
  }
 },
 "nbformat": 4,
 "nbformat_minor": 0
}
