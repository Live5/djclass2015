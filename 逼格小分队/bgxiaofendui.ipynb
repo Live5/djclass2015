{
 "cells": [
  {
   "cell_type": "code",
   "execution_count": 57,
   "metadata": {
    "collapsed": false
   },
   "outputs": [],
   "source": [
    "import  matplotlib.pyplot as plt\n",
    "import numpy as np\n",
    "import urllib2#调用urllib2  \n",
    "from bs4 import BeautifulSoup\n",
    "import os\n",
    "def sort_by_value(d): \n",
    "    items=d.items() \n",
    "    backitems=[[v[1],v[0]] for v in items] \n",
    "    backitems.sort() \n",
    "    return [ backitems[i][1] for i in range(0,len(backitems))] \n",
    "os.chdir('E://python/')\n",
    "urlBase = \"http://datacenter.mep.gov.cn/report/air_daily/air_dairy.jsp?page=\"\n",
    "dict = {}\n",
    "for pageNum in range(1, 14):\n",
    "\n",
    "    content = urllib2.urlopen(urlBase + str(pageNum)).read() #获取网页的html文本\n",
    "    soup = BeautifulSoup(content) \n",
    "    table = soup.find(\"table\", { \"id\" : \"report1\" })\n",
    "    \n",
    "    for row in table.findAll(\"tr\"):\n",
    "        cells = row.findAll(\"td\")\n",
    "        rowNumber = cells[0].find(text = True)\n",
    "        \n",
    "        if rowNumber != None and rowNumber.isdigit():\n",
    "            cityName = cells[1].find(text = True)\n",
    "            date = cells[2].find(text = True)\n",
    "            AQI = cells[3].find(text = True)\n",
    "            dict[cityName] = AQI\n",
    "            line =  rowNumber +','+ cityName+','+date+ ','+ str(AQI)+ '\\n'   \n",
    "            with open('bgxiaofendui.csv', 'a') as p:\n",
    "                p.write(line.encode('utf-8'))"
   ]
  },
  {
   "cell_type": "code",
   "execution_count": null,
   "metadata": {
    "collapsed": true
   },
   "outputs": [],
   "source": []
  },
  {
   "cell_type": "code",
   "execution_count": null,
   "metadata": {
    "collapsed": true
   },
   "outputs": [],
   "source": []
  }
 ],
 "metadata": {
  "kernelspec": {
   "display_name": "Python 2",
   "language": "python",
   "name": "python2"
  },
  "language_info": {
   "codemirror_mode": {
    "name": "ipython",
    "version": 2
   },
   "file_extension": ".py",
   "mimetype": "text/x-python",
   "name": "python",
   "nbconvert_exporter": "python",
   "pygments_lexer": "ipython2",
   "version": "2.7.10"
  }
 },
 "nbformat": 4,
 "nbformat_minor": 0
}
